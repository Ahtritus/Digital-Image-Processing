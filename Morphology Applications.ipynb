{
 "cells": [
  {
   "cell_type": "code",
   "execution_count": 2,
   "metadata": {},
   "outputs": [],
   "source": [
    "import cv2\n",
    "import numpy as np\n",
    "import matplotlib.pyplot as plt"
   ]
  },
  {
   "cell_type": "code",
   "execution_count": 2,
   "metadata": {},
   "outputs": [
    {
     "data": {
      "text/plain": [
       "<matplotlib.image.AxesImage at 0x22dc7058e08>"
      ]
     },
     "execution_count": 2,
     "metadata": {},
     "output_type": "execute_result"
    },
    {
     "data": {
      "image/png": "[encoded data removed]",
      "text/plain": [
       "<Figure size 432x288 with 1 Axes>"
      ]
     },
     "metadata": {
      "needs_background": "light"
     },
     "output_type": "display_data"
    }
   ],
   "source": [
    "#hit or miss\n",
    "image=np.array((\n",
    "    [0, 0, 0, 0, 0, 0, 0, 0],\n",
    "    [0, 255, 255, 255, 0, 0, 0, 255],\n",
    "    [0, 255, 255, 255, 0, 0, 0, 0],\n",
    "    [0, 255, 255, 255, 0, 255, 0, 0],\n",
    "    [0, 0, 255, 0, 0, 0, 0, 0],\n",
    "    [0, 0, 255, 0, 0, 255, 255, 0],\n",
    "    [0,255, 0, 255, 0, 0, 255, 0],\n",
    "    [0, 255, 255, 255, 0, 0, 0, 0]), dtype=\"uint8\")\n",
    "plt.imshow(image,'gray')"
   ]
  },
  {
   "cell_type": "code",
   "execution_count": 3,
   "metadata": {},
   "outputs": [],
   "source": [
    "kernel1 = np.array((\n",
    "        [0, 1, 0],\n",
    "        [1, 0, 1],\n",
    "        [0, 1, 0]), dtype=\"uint8\")\n",
    "\n",
    "kernel2 = np.array((\n",
    "        [0, 0, 0],\n",
    "        [0, 1, 0],\n",
    "        [0, 0, 0]), dtype=\"uint8\")"
   ]
  },
  {
   "cell_type": "code",
   "execution_count": 4,
   "metadata": {},
   "outputs": [
    {
     "data": {
      "text/plain": [
       "<matplotlib.image.AxesImage at 0x22dc7296d08>"
      ]
     },
     "execution_count": 4,
     "metadata": {},
     "output_type": "execute_result"
    },
    {
     "data": {
      "image/png": "[encoded data removed]",
      "text/plain": [
       "<Figure size 432x288 with 1 Axes>"
      ]
     },
     "metadata": {
      "needs_background": "light"
     },
     "output_type": "display_data"
    }
   ],
   "source": [
    "kernel = np.array((\n",
    "        [0, 1, 0],\n",
    "        [1, -1, 1],\n",
    "        [0, 1, 0]), dtype=\"int\")\n",
    "output_image = cv2.morphologyEx(image, cv2.MORPH_HITMISS, kernel)\n",
    "\n",
    "plt.imshow(output_image,'gray')\n",
    "#print(output_image)"
   ]
  },
  {
   "cell_type": "code",
   "execution_count": 5,
   "metadata": {},
   "outputs": [
    {
     "data": {
      "text/plain": [
       "<matplotlib.image.AxesImage at 0x22dc7312c88>"
      ]
     },
     "execution_count": 5,
     "metadata": {},
     "output_type": "execute_result"
    },
    {
     "data": {
      "image/png": "[encoded data removed]",
      "text/plain": [
       "<Figure size 432x288 with 1 Axes>"
      ]
     },
     "metadata": {
      "needs_background": "light"
     },
     "output_type": "display_data"
    }
   ],
   "source": [
    "image = cv2.copyMakeBorder(image,1,1,1,1,cv2.BORDER_CONSTANT)\n",
    "imagecomp = ~image\n",
    "im1 = cv2.erode(image, kernel1, iterations=1)\n",
    "im2 = cv2.erode(imagecomp, kernel2, iterations=1)\n",
    "\n",
    "output_image = cv2.bitwise_and(im1,im2)\n",
    "plt.imshow(output_image,'gray')"
   ]
  },
  {
   "cell_type": "code",
   "execution_count": 11,
   "metadata": {},
   "outputs": [
    {
     "name": "stdout",
     "output_type": "stream",
     "text": [
      "[[  0   0   0   0   0   0   0   0]\n",
      " [  0 255 255 255   0   0   0   0]\n",
      " [  0 255   0 255 255   0   0   0]\n",
      " [  0 255   0   0 255 255   0   0]\n",
      " [  0 255   0   0 255 255   0   0]\n",
      " [  0 255   0 255 255   0   0   0]\n",
      " [  0 255 255 255   0   0   0   0]\n",
      " [  0   0   0   0   0   0   0   0]]\n"
     ]
    },
    {
     "data": {
      "text/plain": [
       "<matplotlib.image.AxesImage at 0x20e0047a288>"
      ]
     },
     "execution_count": 11,
     "metadata": {},
     "output_type": "execute_result"
    },
    {
     "data": {
      "image/png": "[encoded data removed]",
      "text/plain": [
       "<Figure size 432x288 with 2 Axes>"
      ]
     },
     "metadata": {
      "needs_background": "light"
     },
     "output_type": "display_data"
    }
   ],
   "source": [
    "#boundary extraction\n",
    "image=np.array((\n",
    "    [0, 0, 0, 0, 0, 0, 0, 0],\n",
    "    [0, 255, 255, 255, 0, 0, 0, 0],\n",
    "    [0, 255, 255, 255, 255, 0, 0, 0],\n",
    "    [0, 255, 255, 255, 255, 255, 0, 0],\n",
    "    [0, 255, 255, 255, 255, 255, 0, 0],\n",
    "    [0, 255, 255, 255, 255, 0, 0, 0],\n",
    "    [0, 255, 255, 255, 0, 0, 0, 0],\n",
    "    [0, 0, 0, 0, 0, 0, 0, 0]), dtype=\"uint8\")\n",
    "#plt.imshow(image,'gray')\n",
    "#image = cv2.copyMakeBorder(image,1,1,1,1,cv2.BORDER_CONSTANT)\n",
    "\n",
    "kernel = np.array((\n",
    "        [1, 1, 1],\n",
    "        [1, 1, 1],\n",
    "        [1, 1, 1]), dtype=\"uint8\")\n",
    "\n",
    "im1 = cv2.erode(image, kernel, iterations=1)\n",
    "\n",
    "output_image = image - im1\n",
    "#plt.imshow(output_image,'gray')\n",
    "print(output_image)\n",
    "fig, axes = plt.subplots(nrows=1, ncols=2)\n",
    "ax = axes.ravel()\n",
    "ax[0].imshow(image, cmap='gray')\n",
    "ax[1].imshow(output_image, cmap='gray')"
   ]
  },
  {
   "cell_type": "code",
   "execution_count": 3,
   "metadata": {},
   "outputs": [
    {
     "name": "stdout",
     "output_type": "stream",
     "text": [
      "[[  0   0   0   0   0   0   0   0]\n",
      " [  0 255 255 255   0   0   0   0]\n",
      " [  0 255   0 255 255   0   0   0]\n",
      " [  0 255   0   0 255 255   0   0]\n",
      " [  0 255   0   0 255 255   0   0]\n",
      " [  0 255   0 255 255   0   0   0]\n",
      " [  0 255 255 255   0   0   0   0]\n",
      " [  0   0   0   0   0   0   0   0]]\n",
      "[[255 255 255 255 255 255 255 255]\n",
      " [255   0   0   0 255 255 255 255]\n",
      " [255   0 255   0   0 255 255 255]\n",
      " [255   0 255 255   0   0 255 255]\n",
      " [255   0 255 255   0   0 255 255]\n",
      " [255   0 255   0   0 255 255 255]\n",
      " [255   0   0   0 255 255 255 255]\n",
      " [255 255 255 255 255 255 255 255]]\n"
     ]
    },
    {
     "data": {
      "text/plain": [
       "<matplotlib.image.AxesImage at 0x23cf7282748>"
      ]
     },
     "execution_count": 3,
     "metadata": {},
     "output_type": "execute_result"
    },
    {
     "data": {
      "image/png": "[encoded data removed]",
      "text/plain": [
       "<Figure size 432x288 with 2 Axes>"
      ]
     },
     "metadata": {
      "needs_background": "light"
     },
     "output_type": "display_data"
    }
   ],
   "source": [
    "#Hole filling\n",
    "image=np.array(( [  0,   0,   0,   0,   0,   0,   0,   0],\n",
    "                 [  0, 255, 255, 255,   0,   0,   0,   0],\n",
    "                 [  0, 255,   0, 255, 255,   0,   0,   0],\n",
    "                 [  0, 255,   0,   0, 255, 255,   0,   0],\n",
    "                 [  0, 255,   0,   0, 255, 255,   0,   0],\n",
    "                 [  0, 255,   0, 255, 255,   0,   0,   0],\n",
    "                 [  0, 255, 255, 255,   0,   0,   0,   0],\n",
    "                 [  0,   0,   0,   0,   0,   0,   0,   0]), dtype=\"uint8\")\n",
    "\n",
    "image_comp=~image\n",
    "print(image)\n",
    "print(image_comp)\n",
    "plt.subplot(1,2,1)\n",
    "plt.imshow(image,'gray')\n",
    "\n",
    "plt.subplot(1,2,2)\n",
    "plt.imshow(image_comp,'gray')\n",
    "                "
   ]
  },
  {
   "cell_type": "code",
   "execution_count": 4,
   "metadata": {},
   "outputs": [
    {
     "data": {
      "text/plain": [
       "<matplotlib.image.AxesImage at 0x23cf73874c8>"
      ]
     },
     "execution_count": 4,
     "metadata": {},
     "output_type": "execute_result"
    },
    {
     "data": {
      "image/png": "[encoded data removed]",
      "text/plain": [
       "<Figure size 432x288 with 1 Axes>"
      ]
     },
     "metadata": {
      "needs_background": "light"
     },
     "output_type": "display_data"
    }
   ],
   "source": [
    "kernel= np.array((\n",
    "        [0, 1, 0],\n",
    "        [1, 1, 1],\n",
    "        [0, 1, 0]), dtype=\"uint8\")\n",
    "plt.imshow(kernel,'gray')"
   ]
  },
  {
   "cell_type": "code",
   "execution_count": 5,
   "metadata": {},
   "outputs": [
    {
     "name": "stdout",
     "output_type": "stream",
     "text": [
      "[[  0.   0.   0.   0.   0.   0.   0.   0.]\n",
      " [  0.   0.   0.   0.   0.   0.   0.   0.]\n",
      " [  0.   0. 255.   0.   0.   0.   0.   0.]\n",
      " [  0.   0.   0.   0.   0.   0.   0.   0.]\n",
      " [  0.   0.   0.   0.   0.   0.   0.   0.]\n",
      " [  0.   0.   0.   0.   0.   0.   0.   0.]\n",
      " [  0.   0.   0.   0.   0.   0.   0.   0.]\n",
      " [  0.   0.   0.   0.   0.   0.   0.   0.]]\n",
      "hello\n"
     ]
    },
    {
     "ename": "TypeError",
     "evalue": "ufunc 'bitwise_and' not supported for the input types, and the inputs could not be safely coerced to any supported types according to the casting rule ''safe''",
     "output_type": "error",
     "traceback": [
      "\u001b[1;31m---------------------------------------------------------------------------\u001b[0m",
      "\u001b[1;31mTypeError\u001b[0m                                 Traceback (most recent call last)",
      "\u001b[1;32m<ipython-input-5-953c92389531>\u001b[0m in \u001b[0;36m<module>\u001b[1;34m\u001b[0m\n\u001b[0;32m     10\u001b[0m     \u001b[0mz\u001b[0m\u001b[1;33m=\u001b[0m\u001b[0mcv2\u001b[0m\u001b[1;33m.\u001b[0m\u001b[0mdilate\u001b[0m\u001b[1;33m(\u001b[0m\u001b[0mx\u001b[0m\u001b[1;33m,\u001b[0m\u001b[0mkernel\u001b[0m\u001b[1;33m,\u001b[0m\u001b[0miterations\u001b[0m\u001b[1;33m=\u001b[0m\u001b[1;36m1\u001b[0m\u001b[1;33m)\u001b[0m\u001b[1;33m\u001b[0m\u001b[1;33m\u001b[0m\u001b[0m\n\u001b[0;32m     11\u001b[0m     \u001b[0mplt\u001b[0m\u001b[1;33m.\u001b[0m\u001b[0mimshow\u001b[0m\u001b[1;33m(\u001b[0m\u001b[0mz\u001b[0m\u001b[1;33m)\u001b[0m\u001b[1;33m\u001b[0m\u001b[1;33m\u001b[0m\u001b[0m\n\u001b[1;32m---> 12\u001b[1;33m     \u001b[0mx\u001b[0m\u001b[1;33m=\u001b[0m\u001b[0mz\u001b[0m \u001b[1;33m&\u001b[0m \u001b[0mimage_comp\u001b[0m\u001b[1;33m\u001b[0m\u001b[1;33m\u001b[0m\u001b[0m\n\u001b[0m\u001b[0;32m     13\u001b[0m     \u001b[0mprint\u001b[0m\u001b[1;33m(\u001b[0m\u001b[0my\u001b[0m\u001b[1;33m)\u001b[0m\u001b[1;33m\u001b[0m\u001b[1;33m\u001b[0m\u001b[0m\n\u001b[0;32m     14\u001b[0m     \u001b[0mprint\u001b[0m\u001b[1;33m(\u001b[0m\u001b[0mx\u001b[0m\u001b[1;33m)\u001b[0m\u001b[1;33m\u001b[0m\u001b[1;33m\u001b[0m\u001b[0m\n",
      "\u001b[1;31mTypeError\u001b[0m: ufunc 'bitwise_and' not supported for the input types, and the inputs could not be safely coerced to any supported types according to the casting rule ''safe''"
     ]
    },
    {
     "data": {
      "image/png": "[encoded data removed]",
      "text/plain": [
       "<Figure size 432x288 with 1 Axes>"
      ]
     },
     "metadata": {
      "needs_background": "light"
     },
     "output_type": "display_data"
    }
   ],
   "source": [
    "x=np.zeros(image.shape)\n",
    "y=np.zeros(image.shape)\n",
    "x[2,2]=255\n",
    "print(x)\n",
    "\n",
    "\n",
    "while np.any(np.not_equal(x,y)):\n",
    "    print('hello')\n",
    "    y=x\n",
    "    z=cv2.dilate(x,kernel,iterations=1)\n",
    "    plt.imshow(z)\n",
    "    x=z & image_comp\n",
    "    print(y)\n",
    "    print(x)\n",
    "    \n",
    "plt.subplot(1,2,1)\n",
    "plt.title('y')\n",
    "plt.imshow(y,'gray')\n",
    "    \n",
    "plt.subplot(1,2,2)\n",
    "plt.title('x')\n",
    "plt.imshow(x,'gray')\n"
   ]
  },
  {
   "cell_type": "code",
   "execution_count": null,
   "metadata": {},
   "outputs": [],
   "source": []
  }
 ],
 "metadata": {
  "kernelspec": {
   "display_name": "Python 3",
   "language": "python",
   "name": "python3"
  },
  "language_info": {
   "codemirror_mode": {
    "name": "ipython",
    "version": 3
   },
   "file_extension": ".py",
   "mimetype": "text/x-python",
   "name": "python",
   "nbconvert_exporter": "python",
   "pygments_lexer": "ipython3",
   "version": "3.7.6"
  }
 },
 "nbformat": 4,
 "nbformat_minor": 4
}
