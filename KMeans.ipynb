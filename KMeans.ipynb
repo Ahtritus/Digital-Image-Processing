{
 "cells": [
  {
   "cell_type": "code",
   "execution_count": 16,
   "metadata": {},
   "outputs": [],
   "source": [
    "import random\n",
    "import math\n",
    "import pandas as pd\n",
    "import matplotlib.pyplot as plt"
   ]
  },
  {
   "cell_type": "code",
   "execution_count": 3,
   "metadata": {},
   "outputs": [],
   "source": [
    "def eucldist(p0,p1):\n",
    "    dist = 0.0\n",
    "    for i in range(0,len(p0)):\n",
    "        dist += (p0[i] - p1[i])**2\n",
    "    return math.sqrt(dist)"
   ]
  },
  {
   "cell_type": "code",
   "execution_count": 34,
   "metadata": {},
   "outputs": [],
   "source": [
    "def kmeans(k,datapoints):\n",
    "\n",
    "    d = len(datapoints[0]) \n",
    "    Max_Iterations = 1000\n",
    "    i = 0\n",
    "    \n",
    "    cluster = [0] * len(datapoints)\n",
    "    prev_cluster = [-1] * len(datapoints)\n",
    "    \n",
    "    cluster_centers = []\n",
    "    for i in range(0,k):\n",
    "        new_cluster = []\n",
    "        cluster_centers += [random.choice(datapoints)]\n",
    "        \n",
    "        force_recalculation = False\n",
    "    \n",
    "    while (cluster != prev_cluster) or (i > Max_Iterations) or (force_recalculation) :\n",
    "        \n",
    "        prev_cluster = list(cluster)\n",
    "        force_recalculation = False\n",
    "        i += 1\n",
    "    \n",
    "        for p in range(0,len(datapoints)):\n",
    "            min_dist = float(\"inf\")\n",
    "            \n",
    "            for c in range(0,len(cluster_centers)):\n",
    "                \n",
    "                dist = eucldist(datapoints[p],cluster_centers[c])\n",
    "                \n",
    "                if (dist < min_dist):\n",
    "                    min_dist = dist  \n",
    "                    cluster[p] = c  \n",
    "        \n",
    "        for k in range(0,len(cluster_centers)):\n",
    "            new_center = [0] * d\n",
    "            members = 0\n",
    "            for p in range(0,len(datapoints)):\n",
    "                if (cluster[p] == k): \n",
    "                    for j in range(0,d):\n",
    "                        new_center[j] += datapoints[p][j]\n",
    "                    members += 1\n",
    "            \n",
    "            for j in range(0,d):\n",
    "                if members != 0:\n",
    "                    new_center[j] = new_center[j] / float(members) \n",
    "                \n",
    "                else: \n",
    "                    new_center = random.choice(datapoints)\n",
    "                    force_recalculation = True\n",
    "                    print (\"Forced Recalculation...\")\n",
    "                    \n",
    "            \n",
    "            cluster_centers[k] = new_center\n",
    "    \n",
    "        \n",
    "    #print (\"Clusters\", cluster_centers)\n",
    "    #print (\"Iterations\",i)\n",
    "    #print (\"Assignments\", cluster)\n",
    "    return cluster_centers\n",
    "    \n",
    "    "
   ]
  },
  {
   "cell_type": "code",
   "execution_count": 61,
   "metadata": {},
   "outputs": [
    {
     "name": "stdout",
     "output_type": "stream",
     "text": [
      "[6.812765957446806, 3.0744680851063824]\n",
      "[5.773584905660377, 2.692452830188679]\n",
      "[6.812765957446806, 5.773584905660377]\n",
      "[[4.575, 3.2166666666666672], [4.8999999999999995, 3.0928571428571425], [5.283333333333333, 3.7083333333333335]]\n",
      "[[6.633333333333334, 3.033333333333333], [5.300000000000001, 2.4181818181818184], [5.8851851851851835, 2.7962962962962967]]\n",
      "[[7.475000000000001, 3.125], [6.55, 3.0583333333333336], [5.892857142857143, 2.7]]\n"
     ]
    },
    {
     "data": {
      "image/png": "[encoded data removed]",
      "text/plain": [
       "<Figure size 432x288 with 1 Axes>"
      ]
     },
     "metadata": {
      "needs_background": "light"
     },
     "output_type": "display_data"
    }
   ],
   "source": [
    "data = pd.read_csv(\"../../Sem 6/Practical/Iris.csv\")\n",
    "#datapoints = data.iloc[:, [1, 2]].values\n",
    "#plt.scatter(datapoints[:,0], datapoints[:,1],cmap='rainbow')\n",
    "\n",
    "species_list = list(data[\"Species\"].unique())\n",
    "\n",
    "X1=data.loc[data[\"Species\"] == species_list[0]]\n",
    "X2=data.loc[data[\"Species\"] == species_list[1]]\n",
    "X3=data.loc[data[\"Species\"] == species_list[2]]\n",
    "\n",
    "y1 = X1.iloc[:, [1, 2]].values\n",
    "y2 = X2.iloc[:, [1, 2]].values\n",
    "y3 = X3.iloc[:, [1, 2]].values\n",
    "plt.scatter(y1[:,0],y1[:,1])\n",
    "plt.scatter(y2[:,0],y2[:,1])\n",
    "plt.scatter(y3[:,0],y3[:,1])\n",
    "\n",
    "\n",
    "\n",
    "k = 3 # K - Number of Clusters\n",
    "a1=kmeans(k,y1)\n",
    "a2=kmeans(k,y2)\n",
    "a3=kmeans(k,y3)\n",
    "'''\n",
    "plt.scatter(a1[:,0], a1[:,1])\n",
    "plt.scatter(a2[:,0], a2[:,1])\n",
    "plt.scatter(a3[:,0], a3[:,1])\n",
    "'''\n",
    "#plt.scatter(a[:, 0], a[:,1], c = 'red', s=50, label = 'Centroids')\n",
    "c=[]\n",
    "x=len(a)\n",
    "for i in range (1,x):\n",
    "    print(a[i])\n",
    "    c.append(a[i][0])\n",
    "print(c)\n",
    "print(a1)\n",
    "print(a2)\n",
    "print(a3)"
   ]
  },
  {
   "cell_type": "code",
   "execution_count": null,
   "metadata": {},
   "outputs": [],
   "source": []
  }
 ],
 "metadata": {
  "kernelspec": {
   "display_name": "Python 3",
   "language": "python",
   "name": "python3"
  },
  "language_info": {
   "codemirror_mode": {
    "name": "ipython",
    "version": 3
   },
   "file_extension": ".py",
   "mimetype": "text/x-python",
   "name": "python",
   "nbconvert_exporter": "python",
   "pygments_lexer": "ipython3",
   "version": "3.7.6"
  }
 },
 "nbformat": 4,
 "nbformat_minor": 4
}
